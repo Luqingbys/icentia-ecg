{
 "cells": [
  {
   "cell_type": "code",
   "execution_count": 15,
   "metadata": {},
   "outputs": [],
   "source": [
    "import pandas as pd\n",
    "from utils import getSubset\n",
    "import torch\n",
    "import numpy as np\n",
    "import pickle\n",
    "import gzip"
   ]
  },
  {
   "cell_type": "code",
   "execution_count": 19,
   "metadata": {},
   "outputs": [
    {
     "name": "stdout",
     "output_type": "stream",
     "text": [
      "tensor([[[0.1520, 0.8521, 0.2622]],\n",
      "\n",
      "        [[0.3645, 0.5086, 0.8356]]])\n",
      "torch.Size([2, 3])\n",
      "tensor([0.2622, 0.8356])\n"
     ]
    }
   ],
   "source": [
    "temp = torch.rand(2,1,3)\n",
    "print(temp)\n",
    "print(temp.flatten(1).shape)\n",
    "print(temp[:, :, -1].flatten())"
   ]
  },
  {
   "cell_type": "code",
   "execution_count": 6,
   "metadata": {},
   "outputs": [
    {
     "name": "stdout",
     "output_type": "stream",
     "text": [
      "[[0 1 2 3]\n",
      " [4 5 6 7]] [[12 13 14 15]\n",
      " [16 17 18 19]] [[24 25 26 27]\n",
      " [28 29 30 31]]\n"
     ]
    }
   ],
   "source": [
    "a=np.array([i for i in range(8)]).reshape(2,4)\n",
    "b=np.array([i for i in range(12,20)]).reshape(2,4)\n",
    "c=np.array([i for i in range(24,32)]).reshape(2,4)\n",
    "print(a, b, c)"
   ]
  },
  {
   "cell_type": "code",
   "execution_count": 8,
   "metadata": {},
   "outputs": [
    {
     "name": "stdout",
     "output_type": "stream",
     "text": [
      "(3, 2, 4) [[[ 0  1  2  3]\n",
      "  [ 4  5  6  7]]\n",
      "\n",
      " [[12 13 14 15]\n",
      "  [16 17 18 19]]\n",
      "\n",
      " [[24 25 26 27]\n",
      "  [28 29 30 31]]]\n"
     ]
    }
   ],
   "source": [
    "new_array=np.stack([a,b,c],axis=0)\n",
    "print(new_array.shape, new_array)"
   ]
  },
  {
   "cell_type": "code",
   "execution_count": 35,
   "metadata": {},
   "outputs": [],
   "source": [
    "def load_file(filename: str):\n",
    "    '''导入指定的文件'''\n",
    "    # print(\">\", filename)\n",
    "    data = pickle.load(gzip.open(filename))\n",
    "    print(data.shape)\n",
    "    idx = int(filename.split('/')[-1][:5])\n",
    "    temp = idx * np.ones((data.shape[0], 1)) # (50, 1)\n",
    "    data = np.concatenate([data, temp], axis=1)\n",
    "    print(data.shape)\n",
    "    print(data[-5:])\n",
    "    return data"
   ]
  },
  {
   "cell_type": "code",
   "execution_count": 36,
   "metadata": {},
   "outputs": [
    {
     "name": "stdout",
     "output_type": "stream",
     "text": [
      "(50, 1048577)\n",
      "(50, 1048578)\n",
      "[[-0.01344722 -0.01344722 -0.01344722 ...  0.01344722  0.01344722\n",
      "   1.        ]\n",
      " [ 0.02689444  0.02689444  0.04034166 ... -0.01344722 -0.01344722\n",
      "   1.        ]\n",
      " [ 0.08068331  0.06723609  0.05378887 ...  0.04034166 -0.01344722\n",
      "   1.        ]\n",
      " [-0.06723609 -0.04034166  0.02689444 ... -0.01344722 -0.01344722\n",
      "   1.        ]\n",
      " [-0.01344722 -0.01344722 -0.01344722 ... -0.17481384 -0.06723609\n",
      "   1.        ]]\n"
     ]
    }
   ],
   "source": [
    "file = load_file('datasets/00001_batched.pkl.gz')\n",
    "# print(type(file))\n",
    "# print(file.shape)"
   ]
  },
  {
   "cell_type": "code",
   "execution_count": 6,
   "metadata": {},
   "outputs": [
    {
     "name": "stdout",
     "output_type": "stream",
     "text": [
      "[0.97758267 0.38901492 0.80206748 0.64696906 0.17957878 0.24085781\n",
      " 0.79099158 0.21342157 0.47006748 0.98336314]\n",
      "(1, 1, 10)\n"
     ]
    }
   ],
   "source": [
    "x = np.random.rand(10)\n",
    "print(x)\n",
    "emb = x[None, None, :]\n",
    "print(emb.shape)"
   ]
  },
  {
   "cell_type": "code",
   "execution_count": 2,
   "metadata": {},
   "outputs": [
    {
     "name": "stdout",
     "output_type": "stream",
     "text": [
      "Loading cache G:\\深度学习\\医疗\\icentia-ecg\\icentia-ecg/.cache/1200_a3834861caaee2b35b754567601dc021_18536351bee99d761ac3a06f4b42d98c.pkl.gz\n"
     ]
    }
   ],
   "source": [
    "data, labels = getSubset(1200,\n",
    "     embeddings_file='test_emb.csv.gz',\n",
    "                                   labels_file='test_labels.csv.gz',\n",
    "                                   seed=1,\n",
    "                                   balanced='btype')\n"
   ]
  },
  {
   "cell_type": "code",
   "execution_count": 3,
   "metadata": {},
   "outputs": [
    {
     "name": "stdout",
     "output_type": "stream",
     "text": [
      "                       0         1         2  ...      2046      2047    2048\\r\n",
      "id                                            ...                              \n",
      "9000_0_90259   -0.094131 -0.094131 -0.094131  ... -0.013447 -0.040342 -0.053789\n",
      "9000_0_774872   0.026894  0.013447  0.013447  ...  0.094131  0.067236  0.053789\n",
      "9000_1_282137   0.000000  0.000000  0.013447  ... -0.026894 -0.040342 -0.026894\n",
      "9000_1_617011  -0.053789 -0.053789 -0.053789  ...  0.026894  0.026894  0.026894\n",
      "9000_1_830028   0.174814  0.174814  0.174814  ...  0.000000  0.000000  0.000000\n",
      "...                  ...       ...       ...  ...       ...       ...       ...\n",
      "9001_35_366486 -0.026894 -0.040342 -0.053789  ... -0.040342 -0.040342 -0.026894\n",
      "9001_36_514000  0.000000  0.000000  0.000000  ...  0.000000  0.000000  0.000000\n",
      "9001_37_64110   0.026894  0.053789  0.067236  ...  0.040342  0.040342  0.040342\n",
      "9001_37_831753 -0.174814 -0.174814 -0.188261  ...  0.000000  0.000000  0.000000\n",
      "9001_38_86383   0.040342  0.161367  0.363075  ... -0.013447  0.000000  0.000000\n",
      "\n",
      "[180 rows x 2049 columns]\n",
      "                sample  segment   frame  btype  rtype\n",
      "id                                                   \n",
      "9000_0_90259      9000        0   90259      2      0\n",
      "9000_0_774872     9000        0  774872      1      0\n",
      "9000_1_282137     9000        1  282137      2      0\n",
      "9000_1_617011     9000        1  617011      1      0\n",
      "9000_1_830028     9000        1  830028      1      0\n",
      "...                ...      ...     ...    ...    ...\n",
      "9001_35_366486    9001       35  366486      0      0\n",
      "9001_36_514000    9001       36  514000      0      0\n",
      "9001_37_64110     9001       37   64110      0      0\n",
      "9001_37_831753    9001       37  831753      0      0\n",
      "9001_38_86383     9001       38   86383      0      0\n",
      "\n",
      "[180 rows x 5 columns]\n"
     ]
    }
   ],
   "source": [
    "print(data)\n",
    "print(labels)"
   ]
  },
  {
   "cell_type": "code",
   "execution_count": 6,
   "metadata": {},
   "outputs": [],
   "source": [
    "args = {\n",
    "    'model': 'knn',\n",
    "    'num_examples': 1200,\n",
    "    'label_type': 'bytes',\n",
    "    'encode_method': None,\n",
    "}"
   ]
  },
  {
   "cell_type": "code",
   "execution_count": 7,
   "metadata": {},
   "outputs": [],
   "source": [
    "res = {\"model\": args['model'],\n",
    "           \"num_examples\": int(args['num_examples']),\n",
    "           \"label_type\": args['label_type'],\n",
    "           \"seed\": int(233),\n",
    "           \"encode_method\": args['encode_method']}"
   ]
  },
  {
   "cell_type": "code",
   "execution_count": 10,
   "metadata": {},
   "outputs": [],
   "source": [
    "results = pd.read_csv('results.csv')"
   ]
  },
  {
   "cell_type": "code",
   "execution_count": 8,
   "metadata": {},
   "outputs": [
    {
     "data": {
      "text/html": [
       "<div>\n",
       "<style scoped>\n",
       "    .dataframe tbody tr th:only-of-type {\n",
       "        vertical-align: middle;\n",
       "    }\n",
       "\n",
       "    .dataframe tbody tr th {\n",
       "        vertical-align: top;\n",
       "    }\n",
       "\n",
       "    .dataframe thead th {\n",
       "        text-align: right;\n",
       "    }\n",
       "</style>\n",
       "<table border=\"1\" class=\"dataframe\">\n",
       "  <thead>\n",
       "    <tr style=\"text-align: right;\">\n",
       "      <th></th>\n",
       "      <th>model</th>\n",
       "      <th>num_examples</th>\n",
       "      <th>label_type</th>\n",
       "      <th>seed</th>\n",
       "      <th>encode_method</th>\n",
       "    </tr>\n",
       "  </thead>\n",
       "  <tbody>\n",
       "    <tr>\n",
       "      <th>0</th>\n",
       "      <td>knn</td>\n",
       "      <td>1200</td>\n",
       "      <td>bytes</td>\n",
       "      <td>233</td>\n",
       "      <td>None</td>\n",
       "    </tr>\n",
       "  </tbody>\n",
       "</table>\n",
       "</div>"
      ],
      "text/plain": [
       "  model  num_examples label_type  seed encode_method\n",
       "0   knn          1200      bytes   233          None"
      ]
     },
     "execution_count": 8,
     "metadata": {},
     "output_type": "execute_result"
    }
   ],
   "source": [
    "pd.DataFrame(res, index=[0])"
   ]
  },
  {
   "cell_type": "code",
   "execution_count": null,
   "metadata": {},
   "outputs": [],
   "source": []
  }
 ],
 "metadata": {
  "kernelspec": {
   "display_name": "Python 3.8.15 ('torchgpu')",
   "language": "python",
   "name": "python3"
  },
  "language_info": {
   "codemirror_mode": {
    "name": "ipython",
    "version": 3
   },
   "file_extension": ".py",
   "mimetype": "text/x-python",
   "name": "python",
   "nbconvert_exporter": "python",
   "pygments_lexer": "ipython3",
   "version": "3.8.15"
  },
  "orig_nbformat": 4,
  "vscode": {
   "interpreter": {
    "hash": "808ba20632a941d426494906f9e1a2bcb2af5a0b26e589ffbedba9846380e600"
   }
  }
 },
 "nbformat": 4,
 "nbformat_minor": 2
}
